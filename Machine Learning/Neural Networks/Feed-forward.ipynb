{
 "cells": [
  {
   "cell_type": "code",
   "execution_count": 157,
   "metadata": {},
   "outputs": [],
   "source": [
    "import numpy as np"
   ]
  },
  {
   "attachments": {},
   "cell_type": "markdown",
   "metadata": {},
   "source": [
    "## NumPy"
   ]
  },
  {
   "cell_type": "code",
   "execution_count": 163,
   "metadata": {},
   "outputs": [],
   "source": [
    "def init():\n",
    "    global x, w, z, y, delta\n",
    "    x = 1 * np.ones(2)\n",
    "    w = [\n",
    "        0.5 * np.ones((3, 2)),\n",
    "        0.5 * np.ones((2, 3)),\n",
    "        0.5 * np.ones((1, 2))\n",
    "    ]\n",
    "    z = [\n",
    "        np.ones(3),\n",
    "        np.ones(2),\n",
    "        np.ones(1)\n",
    "    ]\n",
    "    y = 1 * np.ones(1)\n",
    "\n",
    "    delta = [\n",
    "        np.ones(3),\n",
    "        np.ones(2),\n",
    "        np.ones(1)\n",
    "    ]\n",
    "\n",
    "init()"
   ]
  },
  {
   "cell_type": "code",
   "execution_count": 209,
   "metadata": {},
   "outputs": [],
   "source": [
    "f = lambda x: x"
   ]
  },
  {
   "cell_type": "code",
   "execution_count": 164,
   "metadata": {},
   "outputs": [
    {
     "data": {
      "text/plain": [
       "[array([1., 1., 1.]), array([1.5, 1.5]), array([1.5])]"
      ]
     },
     "execution_count": 164,
     "metadata": {},
     "output_type": "execute_result"
    }
   ],
   "source": [
    "def forward(x, w, z):\n",
    "    z[0] = np.dot(w[0], x)\n",
    "    for i in range(1, len(w)):\n",
    "        z[i] = np.dot(w[i], z[i-1])\n",
    "    return z\n",
    "\n",
    "forward(x, w, z)"
   ]
  },
  {
   "cell_type": "code",
   "execution_count": 165,
   "metadata": {},
   "outputs": [
    {
     "data": {
      "text/plain": [
       "[array([0.25, 0.25, 0.25]), array([0.25, 0.25]), array([0.5])]"
      ]
     },
     "execution_count": 165,
     "metadata": {},
     "output_type": "execute_result"
    }
   ],
   "source": [
    "def backward(y, w, z):\n",
    "    delta[-1] = z[-1] - y  # l1/l2?\n",
    "    for i in range(len(w)-1, 0, -1):\n",
    "        delta[i-1] = np.dot(w[i].T, delta[i])\n",
    "    return delta\n",
    "\n",
    "backward(y, w, z)"
   ]
  },
  {
   "cell_type": "code",
   "execution_count": 166,
   "metadata": {},
   "outputs": [
    {
     "data": {
      "text/plain": [
       "[array([[0.25, 0.25],\n",
       "        [0.25, 0.25],\n",
       "        [0.25, 0.25]]),\n",
       " array([[0.25, 0.25, 0.25],\n",
       "        [0.25, 0.25, 0.25]]),\n",
       " array([[-0.25, -0.25]])]"
      ]
     },
     "execution_count": 166,
     "metadata": {},
     "output_type": "execute_result"
    }
   ],
   "source": [
    "def update(x, w, z, delta, eta=1):\n",
    "    w[0] -= eta * np.outer(delta[0], x)  # +=?\n",
    "    for i in range(1, len(w)):\n",
    "        w[i] -= eta * np.outer(delta[i], z[i-1])\n",
    "    return w\n",
    "\n",
    "update(x, w, z, delta)"
   ]
  },
  {
   "cell_type": "code",
   "execution_count": 167,
   "metadata": {},
   "outputs": [
    {
     "data": {
      "text/plain": [
       "([array([0.92790055, 0.92790055, 0.92790055]),\n",
       "  array([1.29149914, 1.29149914]),\n",
       "  array([1.])],\n",
       " [array([3.98829749e-16, 3.98829749e-16, 3.98829749e-16]),\n",
       "  array([4.298195e-16, 4.298195e-16]),\n",
       "  array([1.11022302e-15])],\n",
       " [array([[0.46395027, 0.46395027],\n",
       "         [0.46395027, 0.46395027],\n",
       "         [0.46395027, 0.46395027]]),\n",
       "  array([[0.46395027, 0.46395027, 0.46395027],\n",
       "         [0.46395027, 0.46395027, 0.46395027]]),\n",
       "  array([[0.38714699, 0.38714699]])])"
      ]
     },
     "execution_count": 167,
     "metadata": {},
     "output_type": "execute_result"
    }
   ],
   "source": [
    "init()\n",
    "\n",
    "for i in range(50):\n",
    "    z = forward(x, w, z)\n",
    "    delta = backward(y, w, z)\n",
    "    w = update(x, w, z, delta, eta=0.1)\n",
    "    #print('z:', z, 'delta:', delta, 'w:', w, sep='\\n')\n",
    "    #print()\n",
    "\n",
    "z, delta, w"
   ]
  },
  {
   "cell_type": "code",
   "execution_count": 214,
   "metadata": {},
   "outputs": [
    {
     "data": {
      "text/plain": [
       "[array([0.92790055, 0.92790055, 0.92790055]),\n",
       " array([1.29149914, 1.29149914]),\n",
       " array([1.])]"
      ]
     },
     "execution_count": 214,
     "metadata": {},
     "output_type": "execute_result"
    }
   ],
   "source": [
    "forward(np.array([1, 1]), w, z)"
   ]
  },
  {
   "cell_type": "code",
   "execution_count": 215,
   "metadata": {},
   "outputs": [
    {
     "data": {
      "text/plain": [
       "[array([1.85580109, 1.85580109, 1.85580109]),\n",
       " array([2.58299827, 2.58299827]),\n",
       " array([2.])]"
      ]
     },
     "execution_count": 215,
     "metadata": {},
     "output_type": "execute_result"
    }
   ],
   "source": [
    "forward(np.array([2, 2]), w, z)"
   ]
  },
  {
   "attachments": {},
   "cell_type": "markdown",
   "metadata": {},
   "source": [
    "- 权重之和不必为一\n",
    "- 学习率太高时会跑飞\n",
    "- 偏置不是必须的"
   ]
  },
  {
   "attachments": {},
   "cell_type": "markdown",
   "metadata": {},
   "source": [
    "### Bias"
   ]
  },
  {
   "cell_type": "code",
   "execution_count": 158,
   "metadata": {},
   "outputs": [],
   "source": [
    "def init():\n",
    "    global x, w, b, z, y, delta\n",
    "    x = 1 * np.ones(2)\n",
    "    w = [\n",
    "        0.5 * np.ones((3, 2)),\n",
    "        0.5 * np.ones((2, 3)),\n",
    "        0.5 * np.ones((1, 2))\n",
    "    ]\n",
    "    b = [\n",
    "        0.5 * np.ones(3),\n",
    "        0.5 * np.ones(2),\n",
    "        0.5 * np.ones(1)\n",
    "    ]\n",
    "    z = [\n",
    "        np.ones(3),\n",
    "        np.ones(2),\n",
    "        np.ones(1)\n",
    "    ]\n",
    "    y = 1 * np.ones(1)\n",
    "\n",
    "    delta = [\n",
    "        np.ones(3),\n",
    "        np.ones(2),\n",
    "        np.ones(1)\n",
    "    ]\n",
    "\n",
    "init()"
   ]
  },
  {
   "cell_type": "code",
   "execution_count": 159,
   "metadata": {},
   "outputs": [
    {
     "data": {
      "text/plain": [
       "[array([1.5, 1.5, 1.5]), array([2.75, 2.75]), array([3.25])]"
      ]
     },
     "execution_count": 159,
     "metadata": {},
     "output_type": "execute_result"
    }
   ],
   "source": [
    "def forward(x, w, z):\n",
    "    z[0] = np.dot(w[0], x) + b[0]\n",
    "    for i in range(1, len(w)):\n",
    "        z[i] = np.dot(w[i], z[i-1]) + b[i]\n",
    "    return z\n",
    "\n",
    "forward(x, w, z)"
   ]
  },
  {
   "cell_type": "code",
   "execution_count": 160,
   "metadata": {},
   "outputs": [
    {
     "data": {
      "text/plain": [
       "[array([1.125, 1.125, 1.125]), array([1.125, 1.125]), array([2.25])]"
      ]
     },
     "execution_count": 160,
     "metadata": {},
     "output_type": "execute_result"
    }
   ],
   "source": [
    "def backward(y, w, z):\n",
    "    delta[-1] = z[-1] - y\n",
    "    for i in range(len(w)-1, 0, -1):\n",
    "        delta[i-1] = np.dot(w[i].T, delta[i])\n",
    "    return delta\n",
    "\n",
    "backward(y, w, z)"
   ]
  },
  {
   "cell_type": "code",
   "execution_count": 161,
   "metadata": {},
   "outputs": [
    {
     "data": {
      "text/plain": [
       "([array([[-0.625, -0.625],\n",
       "         [-0.625, -0.625],\n",
       "         [-0.625, -0.625]]),\n",
       "  array([[-1.1875, -1.1875, -1.1875],\n",
       "         [-1.1875, -1.1875, -1.1875]]),\n",
       "  array([[-5.6875, -5.6875]])],\n",
       " [array([-0.625, -0.625, -0.625]), array([-0.625, -0.625]), array([-1.75])])"
      ]
     },
     "execution_count": 161,
     "metadata": {},
     "output_type": "execute_result"
    }
   ],
   "source": [
    "def update(x, w, b, z, delta, eta=1):\n",
    "    w[0] -= eta * np.outer(delta[0], x)\n",
    "    b[0] -= eta * delta[0]\n",
    "    for i in range(1, len(w)):\n",
    "        w[i] -= eta * np.outer(delta[i], z[i-1])\n",
    "        b[i] -= eta * delta[i]\n",
    "    return w, b\n",
    "\n",
    "update(x, w, b, z, delta)"
   ]
  },
  {
   "cell_type": "code",
   "execution_count": 162,
   "metadata": {},
   "outputs": [
    {
     "name": "stdout",
     "output_type": "stream",
     "text": [
      "0\n",
      "z:\n",
      "[array([1., 1., 1.]), array([1., 1.]), array([1.])]\n",
      "delta:\n",
      "[array([1., 1., 1.]), array([1., 1.]), array([1.])]\n",
      "w:\n",
      "[array([[0.5, 0.5],\n",
      "       [0.5, 0.5],\n",
      "       [0.5, 0.5]]), array([[0.5, 0.5, 0.5],\n",
      "       [0.5, 0.5, 0.5]]), array([[0.5, 0.5]])]\n",
      "b\n",
      "[array([0.5, 0.5, 0.5]), array([0.5, 0.5]), array([0.5])]\n",
      "\n",
      "z:\n",
      "[array([1.5, 1.5, 1.5]), array([2.75, 2.75]), array([3.25])]\n",
      "delta:\n",
      "[array([1.125, 1.125, 1.125]), array([1.125, 1.125]), array([2.25])]\n",
      "w:\n",
      "[array([[0.3875, 0.3875],\n",
      "       [0.3875, 0.3875],\n",
      "       [0.3875, 0.3875]]), array([[0.33125, 0.33125, 0.33125],\n",
      "       [0.33125, 0.33125, 0.33125]]), array([[-0.11875, -0.11875]])]\n",
      "b\n",
      "[array([0.3875, 0.3875, 0.3875]), array([0.3875, 0.3875]), array([0.275])]\n"
     ]
    }
   ],
   "source": [
    "init()\n",
    "\n",
    "for i in range(1):\n",
    "    print(i)\n",
    "    print('z:', z, 'delta:', delta, 'w:', w, 'b', b, sep='\\n')\n",
    "    print()\n",
    "    z = forward(x, w, z)\n",
    "    delta = backward(y, w, z)\n",
    "    w, b = update(x, w, b, z, delta, eta=0.1)\n",
    "\n",
    "print('z:', z, 'delta:', delta, 'w:', w, 'b', b, sep='\\n')"
   ]
  },
  {
   "attachments": {},
   "cell_type": "markdown",
   "metadata": {},
   "source": [
    "## PyTorch"
   ]
  },
  {
   "cell_type": "code",
   "execution_count": 176,
   "metadata": {},
   "outputs": [],
   "source": [
    "import torch\n",
    "from torch import Tensor\n",
    "from torch.utils.data import DataLoader\n",
    "from torch import nn"
   ]
  },
  {
   "cell_type": "code",
   "execution_count": 177,
   "metadata": {},
   "outputs": [
    {
     "data": {
      "text/plain": [
       "[(tensor([1., 1.]), 1)]"
      ]
     },
     "execution_count": 177,
     "metadata": {},
     "output_type": "execute_result"
    }
   ],
   "source": [
    "training_data = [(Tensor([1., 1.]), 1)]\n",
    "test_data = training_data\n",
    "training_data"
   ]
  },
  {
   "cell_type": "code",
   "execution_count": 219,
   "metadata": {},
   "outputs": [
    {
     "name": "stdout",
     "output_type": "stream",
     "text": [
      "Using cpu device\n",
      "NeuralNetwork(\n",
      "  (linear_relu_stack): Sequential(\n",
      "    (0): Linear(in_features=2, out_features=3, bias=True)\n",
      "    (1): Linear(in_features=3, out_features=2, bias=True)\n",
      "    (2): Linear(in_features=2, out_features=1, bias=True)\n",
      "  )\n",
      ")\n",
      "Epoch 1\n",
      "-------------------------------\n",
      "tensor([[0.1295]], grad_fn=<AddmmBackward0>) tensor([1])\n",
      "loss: 0.870456  [    1/    1]\n",
      "Test Error: \n",
      " Accuracy: 0.0%, Avg loss: 0.346312 \n",
      "\n",
      "Epoch 2\n",
      "-------------------------------\n",
      "tensor([[0.6537]], grad_fn=<AddmmBackward0>) tensor([1])\n",
      "loss: 0.346312  [    1/    1]\n",
      "Test Error: \n",
      " Accuracy: 0.0%, Avg loss: 0.216176 \n",
      "\n",
      "Epoch 3\n",
      "-------------------------------\n",
      "tensor([[1.2162]], grad_fn=<AddmmBackward0>) tensor([1])\n",
      "loss: 0.216176  [    1/    1]\n",
      "Test Error: \n",
      " Accuracy: 0.0%, Avg loss: 0.392748 \n",
      "\n",
      "Epoch 4\n",
      "-------------------------------\n",
      "tensor([[0.6073]], grad_fn=<AddmmBackward0>) tensor([1])\n",
      "loss: 0.392748  [    1/    1]\n",
      "Test Error: \n",
      " Accuracy: 0.0%, Avg loss: 0.109145 \n",
      "\n",
      "Epoch 5\n",
      "-------------------------------\n",
      "tensor([[1.1091]], grad_fn=<AddmmBackward0>) tensor([1])\n",
      "loss: 0.109145  [    1/    1]\n",
      "Test Error: \n",
      " Accuracy: 0.0%, Avg loss: 0.432149 \n",
      "\n",
      "Epoch 6\n",
      "-------------------------------\n",
      "tensor([[0.5679]], grad_fn=<AddmmBackward0>) tensor([1])\n",
      "loss: 0.432149  [    1/    1]\n",
      "Test Error: \n",
      " Accuracy: 0.0%, Avg loss: 0.020305 \n",
      "\n",
      "Epoch 7\n",
      "-------------------------------\n",
      "tensor([[1.0203]], grad_fn=<AddmmBackward0>) tensor([1])\n",
      "loss: 0.020305  [    1/    1]\n",
      "Test Error: \n",
      " Accuracy: 0.0%, Avg loss: 0.466040 \n",
      "\n",
      "Epoch 8\n",
      "-------------------------------\n",
      "tensor([[0.5340]], grad_fn=<AddmmBackward0>) tensor([1])\n",
      "loss: 0.466040  [    1/    1]\n",
      "Test Error: \n",
      " Accuracy: 0.0%, Avg loss: 0.054514 \n",
      "\n",
      "Epoch 9\n",
      "-------------------------------\n",
      "tensor([[0.9455]], grad_fn=<AddmmBackward0>) tensor([1])\n",
      "loss: 0.054514  [    1/    1]\n",
      "Test Error: \n",
      " Accuracy: 0.0%, Avg loss: 0.454278 \n",
      "\n",
      "Epoch 10\n",
      "-------------------------------\n",
      "tensor([[1.4543]], grad_fn=<AddmmBackward0>) tensor([1])\n",
      "loss: 0.454278  [    1/    1]\n",
      "Test Error: \n",
      " Accuracy: 0.0%, Avg loss: 0.121867 \n",
      "\n",
      "Epoch 11\n",
      "-------------------------------\n",
      "tensor([[0.8781]], grad_fn=<AddmmBackward0>) tensor([1])\n",
      "loss: 0.121867  [    1/    1]\n",
      "Test Error: \n",
      " Accuracy: 0.0%, Avg loss: 0.335832 \n",
      "\n",
      "Epoch 12\n",
      "-------------------------------\n",
      "tensor([[1.3358]], grad_fn=<AddmmBackward0>) tensor([1])\n",
      "loss: 0.335832  [    1/    1]\n",
      "Test Error: \n",
      " Accuracy: 0.0%, Avg loss: 0.178925 \n",
      "\n",
      "Epoch 13\n",
      "-------------------------------\n",
      "tensor([[0.8211]], grad_fn=<AddmmBackward0>) tensor([1])\n",
      "loss: 0.178925  [    1/    1]\n",
      "Test Error: \n",
      " Accuracy: 0.0%, Avg loss: 0.236871 \n",
      "\n",
      "Epoch 14\n",
      "-------------------------------\n",
      "tensor([[1.2369]], grad_fn=<AddmmBackward0>) tensor([1])\n",
      "loss: 0.236871  [    1/    1]\n",
      "Test Error: \n",
      " Accuracy: 0.0%, Avg loss: 0.227862 \n",
      "\n",
      "Epoch 15\n",
      "-------------------------------\n",
      "tensor([[0.7721]], grad_fn=<AddmmBackward0>) tensor([1])\n",
      "loss: 0.227862  [    1/    1]\n",
      "Test Error: \n",
      " Accuracy: 0.0%, Avg loss: 0.153074 \n",
      "\n",
      "Epoch 16\n",
      "-------------------------------\n",
      "tensor([[1.1531]], grad_fn=<AddmmBackward0>) tensor([1])\n",
      "loss: 0.153074  [    1/    1]\n",
      "Test Error: \n",
      " Accuracy: 0.0%, Avg loss: 0.270285 \n",
      "\n",
      "Epoch 17\n",
      "-------------------------------\n",
      "tensor([[0.7297]], grad_fn=<AddmmBackward0>) tensor([1])\n",
      "loss: 0.270285  [    1/    1]\n",
      "Test Error: \n",
      " Accuracy: 0.0%, Avg loss: 0.081292 \n",
      "\n",
      "Epoch 18\n",
      "-------------------------------\n",
      "tensor([[1.0813]], grad_fn=<AddmmBackward0>) tensor([1])\n",
      "loss: 0.081292  [    1/    1]\n",
      "Test Error: \n",
      " Accuracy: 0.0%, Avg loss: 0.307404 \n",
      "\n",
      "Epoch 19\n",
      "-------------------------------\n",
      "tensor([[0.6926]], grad_fn=<AddmmBackward0>) tensor([1])\n",
      "loss: 0.307404  [    1/    1]\n",
      "Test Error: \n",
      " Accuracy: 0.0%, Avg loss: 0.019181 \n",
      "\n",
      "Epoch 20\n",
      "-------------------------------\n",
      "tensor([[1.0192]], grad_fn=<AddmmBackward0>) tensor([1])\n",
      "loss: 0.019181  [    1/    1]\n",
      "Test Error: \n",
      " Accuracy: 0.0%, Avg loss: 0.340146 \n",
      "\n",
      "Epoch 21\n",
      "-------------------------------\n",
      "tensor([[0.6599]], grad_fn=<AddmmBackward0>) tensor([1])\n",
      "loss: 0.340146  [    1/    1]\n",
      "Test Error: \n",
      " Accuracy: 0.0%, Avg loss: 0.035037 \n",
      "\n",
      "Epoch 22\n",
      "-------------------------------\n",
      "tensor([[0.9650]], grad_fn=<AddmmBackward0>) tensor([1])\n",
      "loss: 0.035037  [    1/    1]\n",
      "Test Error: \n",
      " Accuracy: 0.0%, Avg loss: 0.349609 \n",
      "\n",
      "Epoch 23\n",
      "-------------------------------\n",
      "tensor([[1.3496]], grad_fn=<AddmmBackward0>) tensor([1])\n",
      "loss: 0.349609  [    1/    1]\n",
      "Test Error: \n",
      " Accuracy: 0.0%, Avg loss: 0.085529 \n",
      "\n",
      "Epoch 24\n",
      "-------------------------------\n",
      "tensor([[0.9145]], grad_fn=<AddmmBackward0>) tensor([1])\n",
      "loss: 0.085529  [    1/    1]\n",
      "Test Error: \n",
      " Accuracy: 0.0%, Avg loss: 0.269385 \n",
      "\n",
      "Epoch 25\n",
      "-------------------------------\n",
      "tensor([[1.2694]], grad_fn=<AddmmBackward0>) tensor([1])\n",
      "loss: 0.269385  [    1/    1]\n",
      "Test Error: \n",
      " Accuracy: 0.0%, Avg loss: 0.129610 \n",
      "\n",
      "Epoch 26\n",
      "-------------------------------\n",
      "tensor([[0.8704]], grad_fn=<AddmmBackward0>) tensor([1])\n",
      "loss: 0.129610  [    1/    1]\n",
      "Test Error: \n",
      " Accuracy: 0.0%, Avg loss: 0.200086 \n",
      "\n",
      "Epoch 27\n",
      "-------------------------------\n",
      "tensor([[1.2001]], grad_fn=<AddmmBackward0>) tensor([1])\n",
      "loss: 0.200086  [    1/    1]\n",
      "Test Error: \n",
      " Accuracy: 0.0%, Avg loss: 0.168413 \n",
      "\n",
      "Epoch 28\n",
      "-------------------------------\n",
      "tensor([[0.8316]], grad_fn=<AddmmBackward0>) tensor([1])\n",
      "loss: 0.168413  [    1/    1]\n",
      "Test Error: \n",
      " Accuracy: 0.0%, Avg loss: 0.139679 \n",
      "\n",
      "Epoch 29\n",
      "-------------------------------\n",
      "tensor([[1.1397]], grad_fn=<AddmmBackward0>) tensor([1])\n",
      "loss: 0.139679  [    1/    1]\n",
      "Test Error: \n",
      " Accuracy: 0.0%, Avg loss: 0.202818 \n",
      "\n",
      "Epoch 30\n",
      "-------------------------------\n",
      "tensor([[0.7972]], grad_fn=<AddmmBackward0>) tensor([1])\n",
      "loss: 0.202818  [    1/    1]\n",
      "Test Error: \n",
      " Accuracy: 0.0%, Avg loss: 0.086599 \n",
      "\n",
      "Epoch 31\n",
      "-------------------------------\n",
      "tensor([[1.0866]], grad_fn=<AddmmBackward0>) tensor([1])\n",
      "loss: 0.086599  [    1/    1]\n",
      "Test Error: \n",
      " Accuracy: 0.0%, Avg loss: 0.233523 \n",
      "\n",
      "Epoch 32\n",
      "-------------------------------\n",
      "tensor([[0.7665]], grad_fn=<AddmmBackward0>) tensor([1])\n",
      "loss: 0.233523  [    1/    1]\n",
      "Test Error: \n",
      " Accuracy: 0.0%, Avg loss: 0.039626 \n",
      "\n",
      "Epoch 33\n",
      "-------------------------------\n",
      "tensor([[1.0396]], grad_fn=<AddmmBackward0>) tensor([1])\n",
      "loss: 0.039626  [    1/    1]\n",
      "Test Error: \n",
      " Accuracy: 0.0%, Avg loss: 0.261083 \n",
      "\n",
      "Epoch 34\n",
      "-------------------------------\n",
      "tensor([[0.7389]], grad_fn=<AddmmBackward0>) tensor([1])\n",
      "loss: 0.261083  [    1/    1]\n",
      "Test Error: \n",
      " Accuracy: 0.0%, Avg loss: 0.002207 \n",
      "\n",
      "Epoch 35\n",
      "-------------------------------\n",
      "tensor([[0.9978]], grad_fn=<AddmmBackward0>) tensor([1])\n",
      "loss: 0.002207  [    1/    1]\n",
      "Test Error: \n",
      " Accuracy: 0.0%, Avg loss: 0.320999 \n",
      "\n",
      "Epoch 36\n",
      "-------------------------------\n",
      "tensor([[1.3210]], grad_fn=<AddmmBackward0>) tensor([1])\n",
      "loss: 0.320999  [    1/    1]\n",
      "Test Error: \n",
      " Accuracy: 0.0%, Avg loss: 0.041823 \n",
      "\n",
      "Epoch 37\n",
      "-------------------------------\n",
      "tensor([[0.9582]], grad_fn=<AddmmBackward0>) tensor([1])\n",
      "loss: 0.041823  [    1/    1]\n",
      "Test Error: \n",
      " Accuracy: 0.0%, Avg loss: 0.261006 \n",
      "\n",
      "Epoch 38\n",
      "-------------------------------\n",
      "tensor([[1.2610]], grad_fn=<AddmmBackward0>) tensor([1])\n",
      "loss: 0.261006  [    1/    1]\n",
      "Test Error: \n",
      " Accuracy: 0.0%, Avg loss: 0.077048 \n",
      "\n",
      "Epoch 39\n",
      "-------------------------------\n",
      "tensor([[0.9230]], grad_fn=<AddmmBackward0>) tensor([1])\n",
      "loss: 0.077048  [    1/    1]\n",
      "Test Error: \n",
      " Accuracy: 0.0%, Avg loss: 0.208126 \n",
      "\n",
      "Epoch 40\n",
      "-------------------------------\n",
      "tensor([[1.2081]], grad_fn=<AddmmBackward0>) tensor([1])\n",
      "loss: 0.208126  [    1/    1]\n",
      "Test Error: \n",
      " Accuracy: 0.0%, Avg loss: 0.108563 \n",
      "\n",
      "Epoch 41\n",
      "-------------------------------\n",
      "tensor([[0.8914]], grad_fn=<AddmmBackward0>) tensor([1])\n",
      "loss: 0.108563  [    1/    1]\n",
      "Test Error: \n",
      " Accuracy: 0.0%, Avg loss: 0.161195 \n",
      "\n",
      "Epoch 42\n",
      "-------------------------------\n",
      "tensor([[1.1612]], grad_fn=<AddmmBackward0>) tensor([1])\n",
      "loss: 0.161195  [    1/    1]\n",
      "Test Error: \n",
      " Accuracy: 0.0%, Avg loss: 0.136916 \n",
      "\n",
      "Epoch 43\n",
      "-------------------------------\n",
      "tensor([[0.8631]], grad_fn=<AddmmBackward0>) tensor([1])\n",
      "loss: 0.136916  [    1/    1]\n",
      "Test Error: \n",
      " Accuracy: 0.0%, Avg loss: 0.119289 \n",
      "\n",
      "Epoch 44\n",
      "-------------------------------\n",
      "tensor([[1.1193]], grad_fn=<AddmmBackward0>) tensor([1])\n",
      "loss: 0.119289  [    1/    1]\n",
      "Test Error: \n",
      " Accuracy: 0.0%, Avg loss: 0.162552 \n",
      "\n",
      "Epoch 45\n",
      "-------------------------------\n",
      "tensor([[0.8374]], grad_fn=<AddmmBackward0>) tensor([1])\n",
      "loss: 0.162552  [    1/    1]\n",
      "Test Error: \n",
      " Accuracy: 0.0%, Avg loss: 0.081663 \n",
      "\n",
      "Epoch 46\n",
      "-------------------------------\n",
      "tensor([[1.0817]], grad_fn=<AddmmBackward0>) tensor([1])\n",
      "loss: 0.081663  [    1/    1]\n",
      "Test Error: \n",
      " Accuracy: 0.0%, Avg loss: 0.185835 \n",
      "\n",
      "Epoch 47\n",
      "-------------------------------\n",
      "tensor([[0.8142]], grad_fn=<AddmmBackward0>) tensor([1])\n",
      "loss: 0.185835  [    1/    1]\n",
      "Test Error: \n",
      " Accuracy: 0.0%, Avg loss: 0.047712 \n",
      "\n",
      "Epoch 48\n",
      "-------------------------------\n",
      "tensor([[1.0477]], grad_fn=<AddmmBackward0>) tensor([1])\n",
      "loss: 0.047712  [    1/    1]\n",
      "Test Error: \n",
      " Accuracy: 0.0%, Avg loss: 0.207067 \n",
      "\n",
      "Epoch 49\n",
      "-------------------------------\n",
      "tensor([[0.7929]], grad_fn=<AddmmBackward0>) tensor([1])\n",
      "loss: 0.207067  [    1/    1]\n",
      "Test Error: \n",
      " Accuracy: 0.0%, Avg loss: 0.016938 \n",
      "\n",
      "Epoch 50\n",
      "-------------------------------\n",
      "tensor([[1.0169]], grad_fn=<AddmmBackward0>) tensor([1])\n",
      "loss: 0.016938  [    1/    1]\n",
      "Test Error: \n",
      " Accuracy: 0.0%, Avg loss: 0.226502 \n",
      "\n",
      "Done!\n"
     ]
    }
   ],
   "source": [
    "batch_size = 1\n",
    "\n",
    "# Create data loaders.\n",
    "train_dataloader = DataLoader(training_data, batch_size=batch_size)\n",
    "test_dataloader = DataLoader(test_data, batch_size=batch_size)\n",
    "\n",
    "# Get cpu or gpu device for training.\n",
    "#device = \"cuda\" if torch.cuda.is_available() else \"mps\" if torch.backends.mps.is_available() else \"cpu\"\n",
    "device = 'cpu'\n",
    "print(f\"Using {device} device\")\n",
    "\n",
    "# Define model\n",
    "class NeuralNetwork(nn.Module):\n",
    "    def __init__(self):\n",
    "        super().__init__()\n",
    "        self.linear_relu_stack = nn.Sequential(\n",
    "            nn.Linear(2, 3),\n",
    "            nn.Linear(3, 2),\n",
    "            nn.Linear(2, 1)\n",
    "        )\n",
    "\n",
    "    def forward(self, x):\n",
    "        logits = self.linear_relu_stack(x)\n",
    "        return logits\n",
    "\n",
    "model = NeuralNetwork().to(device)\n",
    "print(model)\n",
    "\n",
    "class SubLoss(nn.Module):\n",
    "    def __init__(self):\n",
    "        super(SubLoss, self).__init__()\n",
    "\n",
    "    def forward(self, output, target):\n",
    "        return output - target\n",
    "#loss_fn = SubLoss()\n",
    "loss_fn = nn.L1Loss()\n",
    "\n",
    "optimizer = torch.optim.SGD(model.parameters(), lr=0.1)\n",
    "\n",
    "def train(dataloader, model, loss_fn, optimizer):\n",
    "    size = len(dataloader.dataset)\n",
    "    model.train()\n",
    "    for batch, (X, y) in enumerate(dataloader):\n",
    "        X, y = X.to(device), y.to(device)\n",
    "\n",
    "        # Compute prediction error\n",
    "        pred = model(X)\n",
    "        print(pred, y)\n",
    "        loss = loss_fn(pred, y)\n",
    "\n",
    "        # Backpropagation\n",
    "        optimizer.zero_grad()\n",
    "        loss.backward()\n",
    "        optimizer.step()\n",
    "\n",
    "        if batch % 100 == 0:\n",
    "            loss, current = loss.item(), (batch + 1) * len(X)\n",
    "            print(f\"loss: {loss:>7f}  [{current:>5d}/{size:>5d}]\")\n",
    "\n",
    "def test(dataloader, model, loss_fn):\n",
    "    size = len(dataloader.dataset)\n",
    "    num_batches = len(dataloader)\n",
    "    model.eval()\n",
    "    test_loss, correct = 0, 0\n",
    "    with torch.no_grad():\n",
    "        for X, y in dataloader:\n",
    "            X, y = X.to(device), y.to(device)\n",
    "            pred = model(X)\n",
    "            test_loss += loss_fn(pred, y).item()\n",
    "            correct += (pred.argmax(1) == y).type(torch.float).sum().item()\n",
    "    test_loss /= num_batches\n",
    "    correct /= size\n",
    "    print(f\"Test Error: \\n Accuracy: {(100*correct):>0.1f}%, Avg loss: {test_loss:>8f} \\n\")\n",
    "\n",
    "epochs = 50\n",
    "for t in range(epochs):\n",
    "    print(f\"Epoch {t+1}\\n-------------------------------\")\n",
    "    train(train_dataloader, model, loss_fn, optimizer)\n",
    "    test(test_dataloader, model, loss_fn)\n",
    "print(\"Done!\")"
   ]
  },
  {
   "cell_type": "code",
   "execution_count": 220,
   "metadata": {},
   "outputs": [
    {
     "name": "stdout",
     "output_type": "stream",
     "text": [
      "Predicted: \"tensor([0.7735])\", Actual: \"tensor([1])\"\n"
     ]
    }
   ],
   "source": [
    "model.eval()\n",
    "x, y = next(iter(DataLoader(test_data)))\n",
    "x, y = x.to(device), y.to(device)\n",
    "with torch.no_grad():\n",
    "    pred = model(x)\n",
    "    print(f'Predicted: \"{pred[0]}\", Actual: \"{y}\"')"
   ]
  },
  {
   "attachments": {},
   "cell_type": "markdown",
   "metadata": {},
   "source": [
    "## PyTorch MNIST"
   ]
  },
  {
   "cell_type": "code",
   "execution_count": 1,
   "metadata": {},
   "outputs": [
    {
     "name": "stderr",
     "output_type": "stream",
     "text": [
      "c:\\ProgramData\\Miniconda3\\lib\\site-packages\\tqdm\\auto.py:21: TqdmWarning: IProgress not found. Please update jupyter and ipywidgets. See https://ipywidgets.readthedocs.io/en/stable/user_install.html\n",
      "  from .autonotebook import tqdm as notebook_tqdm\n",
      "c:\\ProgramData\\Miniconda3\\lib\\site-packages\\scipy\\__init__.py:146: UserWarning: A NumPy version >=1.16.5 and <1.23.0 is required for this version of SciPy (detected version 1.23.1\n",
      "  warnings.warn(f\"A NumPy version >={np_minversion} and <{np_maxversion}\"\n"
     ]
    }
   ],
   "source": [
    "import time\n",
    "import torch\n",
    "import torch.nn as nn\n",
    "import torch.nn.functional as F\n",
    "from torch.utils.data import DataLoader\n",
    "from torchvision import datasets\n",
    "from torchvision import transforms\n",
    "import torchvision.transforms as transforms\n",
    "\n",
    "import numpy as np\n",
    "\n",
    "import matplotlib\n",
    "import matplotlib.pyplot as plt\n",
    "import seaborn as sns\n",
    "%matplotlib inline"
   ]
  },
  {
   "cell_type": "code",
   "execution_count": 2,
   "metadata": {},
   "outputs": [],
   "source": [
    "device = torch.device(\"cuda:0\" if torch.cuda.is_available() else \"cpu\")"
   ]
  },
  {
   "cell_type": "code",
   "execution_count": 3,
   "metadata": {},
   "outputs": [
    {
     "name": "stdout",
     "output_type": "stream",
     "text": [
      "Downloading http://yann.lecun.com/exdb/mnist/train-images-idx3-ubyte.gz\n",
      "Downloading http://yann.lecun.com/exdb/mnist/train-images-idx3-ubyte.gz to private\\MNIST\\raw\\train-images-idx3-ubyte.gz\n"
     ]
    },
    {
     "name": "stderr",
     "output_type": "stream",
     "text": [
      "100%|██████████| 9912422/9912422 [00:13<00:00, 761013.51it/s] \n"
     ]
    },
    {
     "name": "stdout",
     "output_type": "stream",
     "text": [
      "Extracting private\\MNIST\\raw\\train-images-idx3-ubyte.gz to private\\MNIST\\raw\n",
      "\n",
      "Downloading http://yann.lecun.com/exdb/mnist/train-labels-idx1-ubyte.gz\n",
      "Downloading http://yann.lecun.com/exdb/mnist/train-labels-idx1-ubyte.gz to private\\MNIST\\raw\\train-labels-idx1-ubyte.gz\n"
     ]
    },
    {
     "name": "stderr",
     "output_type": "stream",
     "text": [
      "100%|██████████| 28881/28881 [00:00<00:00, 553603.73it/s]\n"
     ]
    },
    {
     "name": "stdout",
     "output_type": "stream",
     "text": [
      "Extracting private\\MNIST\\raw\\train-labels-idx1-ubyte.gz to private\\MNIST\\raw\n",
      "\n",
      "Downloading http://yann.lecun.com/exdb/mnist/t10k-images-idx3-ubyte.gz\n",
      "Downloading http://yann.lecun.com/exdb/mnist/t10k-images-idx3-ubyte.gz to private\\MNIST\\raw\\t10k-images-idx3-ubyte.gz\n"
     ]
    },
    {
     "name": "stderr",
     "output_type": "stream",
     "text": [
      "100%|██████████| 1648877/1648877 [00:01<00:00, 888131.82it/s] \n"
     ]
    },
    {
     "name": "stdout",
     "output_type": "stream",
     "text": [
      "Extracting private\\MNIST\\raw\\t10k-images-idx3-ubyte.gz to private\\MNIST\\raw\n",
      "\n",
      "Downloading http://yann.lecun.com/exdb/mnist/t10k-labels-idx1-ubyte.gz\n",
      "Downloading http://yann.lecun.com/exdb/mnist/t10k-labels-idx1-ubyte.gz to private\\MNIST\\raw\\t10k-labels-idx1-ubyte.gz\n"
     ]
    },
    {
     "name": "stderr",
     "output_type": "stream",
     "text": [
      "100%|██████████| 4542/4542 [00:00<00:00, 8683012.20it/s]"
     ]
    },
    {
     "name": "stdout",
     "output_type": "stream",
     "text": [
      "Extracting private\\MNIST\\raw\\t10k-labels-idx1-ubyte.gz to private\\MNIST\\raw\n",
      "\n"
     ]
    },
    {
     "name": "stderr",
     "output_type": "stream",
     "text": [
      "\n"
     ]
    }
   ],
   "source": [
    "train_dataset = datasets.MNIST(root='private', \n",
    "                               train=True, \n",
    "                               transform=transforms.ToTensor(),\n",
    "                               download=True)\n",
    "\n",
    "test_dataset = datasets.MNIST(root='private', \n",
    "                              train=False, \n",
    "                              transform=transforms.ToTensor())"
   ]
  },
  {
   "cell_type": "code",
   "execution_count": 4,
   "metadata": {},
   "outputs": [],
   "source": [
    "batch_size = 100\n",
    "n_iters = 3000\n",
    "num_epochs = n_iters / (len(train_dataset) / batch_size)\n",
    "num_epochs = int(num_epochs)\n",
    "\n",
    "train_loader = torch.utils.data.DataLoader(dataset=train_dataset, \n",
    "                                           batch_size=batch_size, \n",
    "                                           shuffle=True)\n",
    "\n",
    "test_loader = torch.utils.data.DataLoader(dataset=test_dataset, \n",
    "                                          batch_size=batch_size, \n",
    "                                          shuffle=False)"
   ]
  },
  {
   "cell_type": "code",
   "execution_count": 5,
   "metadata": {},
   "outputs": [],
   "source": [
    "class FeedforwardNeuralNetModel(nn.Module):\n",
    "    def __init__(self, input_dim, hidden_dim, output_dim):\n",
    "        super(FeedforwardNeuralNetModel, self).__init__()\n",
    "        # 784 --> 100\n",
    "        self.fc1 = nn.Linear(input_dim, hidden_dim) \n",
    "        self.relu1 = nn.ReLU()\n",
    "\n",
    "        # 100 --> 100\n",
    "        self.fc2 = nn.Linear(hidden_dim, hidden_dim)\n",
    "        self.relu2 = nn.ReLU()\n",
    "\n",
    "        # 100 --> 100\n",
    "        self.fc3 = nn.Linear(hidden_dim, hidden_dim)\n",
    "        self.relu3 = nn.ReLU()\n",
    "\n",
    "        # 100 --> 10\n",
    "        self.fc4 = nn.Linear(hidden_dim, output_dim)  \n",
    "\n",
    "    def forward(self, x):\n",
    "        out = self.fc1(x)\n",
    "        out = self.relu1(out)\n",
    "        out = self.fc2(out)\n",
    "        out = self.relu2(out)\n",
    "        out = self.fc3(out)\n",
    "        out = self.relu3(out)\n",
    "        out = self.fc4(out)\n",
    "        return out"
   ]
  },
  {
   "cell_type": "code",
   "execution_count": 6,
   "metadata": {},
   "outputs": [
    {
     "data": {
      "text/plain": [
       "FeedforwardNeuralNetModel(\n",
       "  (fc1): Linear(in_features=784, out_features=100, bias=True)\n",
       "  (relu1): ReLU()\n",
       "  (fc2): Linear(in_features=100, out_features=100, bias=True)\n",
       "  (relu2): ReLU()\n",
       "  (fc3): Linear(in_features=100, out_features=100, bias=True)\n",
       "  (relu3): ReLU()\n",
       "  (fc4): Linear(in_features=100, out_features=10, bias=True)\n",
       ")"
      ]
     },
     "execution_count": 6,
     "metadata": {},
     "output_type": "execute_result"
    }
   ],
   "source": [
    "input_dim = 28*28\n",
    "hidden_dim = 100\n",
    "output_dim = 10\n",
    "\n",
    "model = FeedforwardNeuralNetModel(input_dim, hidden_dim, output_dim)\n",
    "model.to(device)"
   ]
  },
  {
   "cell_type": "code",
   "execution_count": 7,
   "metadata": {},
   "outputs": [],
   "source": [
    "criterion = nn.CrossEntropyLoss()\n",
    "\n",
    "learning_rate = 0.1\n",
    "\n",
    "optimizer = torch.optim.SGD(model.parameters(), lr=learning_rate)"
   ]
  },
  {
   "cell_type": "code",
   "execution_count": 8,
   "metadata": {},
   "outputs": [
    {
     "name": "stdout",
     "output_type": "stream",
     "text": [
      "Iteration: 500. Loss: 0.4547782242298126. Accuracy: 89.62000274658203\n",
      "Iteration: 1000. Loss: 0.3158634305000305. Accuracy: 92.9000015258789\n",
      "Iteration: 1500. Loss: 0.16209173202514648. Accuracy: 94.27999877929688\n",
      "Iteration: 2000. Loss: 0.07562467455863953. Accuracy: 96.0999984741211\n",
      "Iteration: 2500. Loss: 0.10774170607328415. Accuracy: 96.51000213623047\n",
      "Iteration: 3000. Loss: 0.0684959888458252. Accuracy: 96.80000305175781\n"
     ]
    }
   ],
   "source": [
    "iter = 0\n",
    "for epoch in range(num_epochs):\n",
    "    for i, (images, labels) in enumerate(train_loader):\n",
    "        images = images.view(-1, 28*28).requires_grad_().to(device)\n",
    "        labels = labels.to(device)\n",
    "\n",
    "        optimizer.zero_grad()\n",
    "        outputs = model(images)\n",
    "        loss = criterion(outputs, labels)\n",
    "        loss.backward()\n",
    "\n",
    "        optimizer.step()\n",
    "\n",
    "        iter += 1\n",
    "\n",
    "        if iter % 500 == 0:      \n",
    "            correct = 0\n",
    "            total = 0\n",
    "            for images, labels in test_loader:\n",
    "                images = images.view(-1, 28*28).requires_grad_().to(device)\n",
    "                outputs = model(images)\n",
    "                _, predicted = torch.max(outputs.data, 1)\n",
    "                total += labels.size(0)\n",
    "                if torch.cuda.is_available():\n",
    "                    correct += (predicted.cpu() == labels.cpu()).sum()\n",
    "                else:\n",
    "                    correct += (predicted == labels).sum()\n",
    "\n",
    "            accuracy = 100 * correct / total\n",
    "\n",
    "            print('Iteration: {}. Loss: {}. Accuracy: {}'.format(iter, loss.item(), accuracy))"
   ]
  },
  {
   "cell_type": "code",
   "execution_count": 9,
   "metadata": {},
   "outputs": [
    {
     "name": "stdout",
     "output_type": "stream",
     "text": [
      "[[9.680e+02 0.000e+00 1.000e+00 1.000e+00 1.000e+00 2.000e+00 3.000e+00\n",
      "  2.000e+00 2.000e+00 0.000e+00]\n",
      " [0.000e+00 1.112e+03 3.000e+00 4.000e+00 0.000e+00 0.000e+00 6.000e+00\n",
      "  1.000e+00 9.000e+00 0.000e+00]\n",
      " [1.100e+01 0.000e+00 1.000e+03 1.000e+00 2.000e+00 0.000e+00 5.000e+00\n",
      "  4.000e+00 9.000e+00 0.000e+00]\n",
      " [2.000e+00 0.000e+00 1.400e+01 9.680e+02 0.000e+00 8.000e+00 0.000e+00\n",
      "  5.000e+00 8.000e+00 5.000e+00]\n",
      " [2.000e+00 0.000e+00 2.000e+00 0.000e+00 9.490e+02 0.000e+00 1.100e+01\n",
      "  3.000e+00 1.000e+00 1.400e+01]\n",
      " [4.000e+00 0.000e+00 0.000e+00 9.000e+00 1.000e+00 8.570e+02 9.000e+00\n",
      "  1.000e+00 8.000e+00 3.000e+00]\n",
      " [6.000e+00 2.000e+00 0.000e+00 0.000e+00 5.000e+00 8.000e+00 9.360e+02\n",
      "  0.000e+00 1.000e+00 0.000e+00]\n",
      " [2.000e+00 6.000e+00 1.500e+01 6.000e+00 1.000e+00 0.000e+00 1.000e+00\n",
      "  9.830e+02 4.000e+00 1.000e+01]\n",
      " [7.000e+00 0.000e+00 2.000e+00 6.000e+00 3.000e+00 4.000e+00 6.000e+00\n",
      "  3.000e+00 9.420e+02 1.000e+00]\n",
      " [8.000e+00 3.000e+00 1.000e+00 8.000e+00 1.300e+01 4.000e+00 0.000e+00\n",
      "  5.000e+00 2.000e+00 9.650e+02]]\n"
     ]
    }
   ],
   "source": [
    "def compute_conf_matrix(model, data_loader):\n",
    "    conf_matrix = np.zeros((10,10))\n",
    "    for images, labels in data_loader:\n",
    "        images = images.view(-1, 28*28).requires_grad_().to(device)\n",
    "        outputs = model(images)\n",
    "        _, predicted = torch.max(outputs.data, 1)\n",
    "        for t, p in zip(labels.view(-1), predicted.view(-1)):\n",
    "            conf_matrix[t.long(), p.long()] += 1\n",
    "\n",
    "    return conf_matrix\n",
    "\n",
    "conf_matrix = compute_conf_matrix(model, test_loader)\n",
    "print(conf_matrix)"
   ]
  },
  {
   "cell_type": "code",
   "execution_count": 10,
   "metadata": {},
   "outputs": [
    {
     "data": {
      "text/plain": [
       "Text(69.0, 0.5, 'True')"
      ]
     },
     "execution_count": 10,
     "metadata": {},
     "output_type": "execute_result"
    },
    {
     "data": {
      "image/png": "[encoded data removed]",
      "text/plain": [
       "<Figure size 720x648 with 2 Axes>"
      ]
     },
     "metadata": {
      "needs_background": "light"
     },
     "output_type": "display_data"
    }
   ],
   "source": [
    "plt.subplots(figsize=(10,9))\n",
    "ax = sns.heatmap(conf_matrix, annot=True, vmax=20)\n",
    "ax.set_xlabel('Predicted')\n",
    "ax.set_ylabel('True')"
   ]
  },
  {
   "attachments": {},
   "cell_type": "markdown",
   "metadata": {},
   "source": [
    "## MindSpore MNIST"
   ]
  },
  {
   "cell_type": "code",
   "execution_count": 16,
   "id": "d80913ab",
   "metadata": {},
   "outputs": [],
   "source": [
    "from mindvision.dataset import Mnist\n",
    "\n",
    "download_train = Mnist(path=\"private/mnist\", split=\"train\", batch_size=100, repeat_num=1, shuffle=True, resize=28, download=True)\n",
    "download_eval = Mnist(path=\"private/mnist\", split=\"test\", batch_size=100, resize=28, download=True)\n",
    "\n",
    "dataset_train = download_train.run()\n",
    "dataset_eval = download_eval.run()"
   ]
  },
  {
   "cell_type": "code",
   "execution_count": 18,
   "id": "e9c7b1a2",
   "metadata": {},
   "outputs": [],
   "source": [
    "class ForwardNN(nn.Cell):      \n",
    "    def __init__(self):\n",
    "        super(ForwardNN, self).__init__()\n",
    "        self.flatten = nn.Flatten()\n",
    "        self.relu = nn.ReLU()\n",
    "        self.fc1 = nn.Dense(784, 100, activation='relu')\n",
    "        self.fc2 = nn.Dense(100, 100, activation='relu')\n",
    "        self.fc3 = nn.Dense(100, 100, activation='relu')\n",
    "        self.fc4 = nn.Dense(100, 10, activation=None)\n",
    "    \n",
    "    def construct(self, input_x):\n",
    "        output = self.flatten(input_x)\n",
    "        output = self.fc1(output)\n",
    "        output = self.fc2(output)\n",
    "        output = self.fc3(output)   \n",
    "        output = self.fc4(output)\n",
    "        return output \n",
    "\n",
    "network = ForwardNN()"
   ]
  },
  {
   "cell_type": "code",
   "execution_count": 19,
   "id": "e7885ed9",
   "metadata": {},
   "outputs": [],
   "source": [
    "# 定义损失函数\n",
    "net_loss = nn.SoftmaxCrossEntropyWithLogits(sparse=True, reduction='mean')\n",
    "\n",
    "# 定义优化器函数\n",
    "net_opt = nn.SGD(network.trainable_params(), learning_rate=0.1)"
   ]
  },
  {
   "cell_type": "code",
   "execution_count": 20,
   "id": "68775624",
   "metadata": {},
   "outputs": [],
   "source": [
    "from mindspore.train.callback import ModelCheckpoint, CheckpointConfig\n",
    "\n",
    "# 设置模型保存参数\n",
    "config_ck = CheckpointConfig(save_checkpoint_steps=6000, keep_checkpoint_max=10)\n",
    "\n",
    "# 应用模型保存参数\n",
    "ckpoint = ModelCheckpoint(prefix=\"fnn\", directory=\"private/fnn\", config=config_ck)"
   ]
  },
  {
   "cell_type": "code",
   "execution_count": 21,
   "id": "ab8d48ad",
   "metadata": {},
   "outputs": [
    {
     "name": "stdout",
     "output_type": "stream",
     "text": [
      "Epoch time: 3114.337 ms, per step time: 5.191 ms, avg loss: 2.301\n",
      "Epoch time: 1860.068 ms, per step time: 3.100 ms, avg loss: 0.481\n",
      "Epoch time: 1878.778 ms, per step time: 3.131 ms, avg loss: 0.132\n",
      "Epoch:[  3/  5], step:[  600/  600], loss:[0.166/0.166], time:2172.033 ms, lr:0.10000\n",
      "Epoch time: 2180.566 ms, per step time: 3.634 ms, avg loss: 0.166\n",
      "Epoch time: 2028.702 ms, per step time: 3.381 ms, avg loss: 0.094\n"
     ]
    }
   ],
   "source": [
    "from mindvision.engine.callback import LossMonitor\n",
    "from mindspore.train import Model\n",
    "\n",
    "# 初始化模型参数\n",
    "model = Model(network, loss_fn=net_loss, optimizer=net_opt, metrics={'accuracy'})\n",
    "\n",
    "# 训练网络模型\n",
    "model.train(5, dataset_train, callbacks=[ckpoint, LossMonitor(0.1, 1875)])"
   ]
  },
  {
   "cell_type": "code",
   "execution_count": 22,
   "id": "55848f67",
   "metadata": {},
   "outputs": [
    {
     "name": "stdout",
     "output_type": "stream",
     "text": [
      "{'accuracy': 0.9659}\n"
     ]
    }
   ],
   "source": [
    "acc = model.eval(dataset_eval)\n",
    "\n",
    "print(\"{}\".format(acc))"
   ]
  },
  {
   "cell_type": "code",
   "execution_count": null,
   "id": "306e52f3",
   "metadata": {},
   "outputs": [
    {
     "data": {
      "text/plain": [
       "[]"
      ]
     },
     "metadata": {},
     "output_type": "display_data"
    }
   ],
   "source": [
    "from mindspore import load_checkpoint, load_param_into_net\n",
    "\n",
    "# 加载已经保存的用于测试的模型\n",
    "param_dict = load_checkpoint(\"private/fnn/fnn-1_1875.ckpt\")\n",
    "# 加载参数到网络中\n",
    "load_param_into_net(network, param_dict)"
   ]
  },
  {
   "cell_type": "code",
   "execution_count": 23,
   "id": "682f35a9",
   "metadata": {},
   "outputs": [
    {
     "data": {
      "image/png": "[encoded data removed]",
      "text/plain": [
       "<Figure size 640x480 with 6 Axes>"
      ]
     },
     "metadata": {},
     "output_type": "display_data"
    },
    {
     "name": "stdout",
     "output_type": "stream",
     "text": [
      "Predicted: \"[4 6 1 2 7 4]\", Actual: \"[4 6 1 2 7 4]\"\n"
     ]
    }
   ],
   "source": [
    "import numpy as np\n",
    "from mindspore import Tensor\n",
    "import matplotlib.pyplot as plt\n",
    "\n",
    "mnist = Mnist(\"private/mnist\", split=\"train\", batch_size=6, resize=28)\n",
    "dataset_infer = mnist.run()\n",
    "ds_test = dataset_infer.create_dict_iterator()\n",
    "data = next(ds_test)\n",
    "images = data[\"image\"].asnumpy()\n",
    "labels = data[\"label\"].asnumpy()\n",
    "\n",
    "plt.figure()\n",
    "for i in range(1, 7):\n",
    "    plt.subplot(2, 3, i)\n",
    "    plt.imshow(images[i-1][0], interpolation=\"None\", cmap=\"gray\")\n",
    "plt.show()\n",
    "\n",
    "# 使用函数model.predict预测image对应分类\n",
    "output = model.predict(Tensor(data['image']))\n",
    "predicted = np.argmax(output.asnumpy(), axis=1)\n",
    "\n",
    "# 输出预测分类与实际分类\n",
    "print(f'Predicted: \"{predicted}\", Actual: \"{labels}\"')"
   ]
  },
  {
   "cell_type": "code",
   "execution_count": 24,
   "id": "fc0489c8",
   "metadata": {},
   "outputs": [
    {
     "name": "stdout",
     "output_type": "stream",
     "text": [
      "[[5.830e+03 0.000e+00 1.800e+01 4.000e+00 1.000e+00 2.300e+01 3.000e+01\n",
      "  0.000e+00 1.300e+01 4.000e+00]\n",
      " [0.000e+00 6.661e+03 2.800e+01 5.000e+00 1.000e+00 0.000e+00 2.000e+00\n",
      "  1.100e+01 3.400e+01 0.000e+00]\n",
      " [1.800e+01 1.300e+01 5.869e+03 1.100e+01 9.000e+00 2.000e+00 7.000e+00\n",
      "  6.000e+00 2.100e+01 2.000e+00]\n",
      " [4.000e+00 0.000e+00 6.500e+01 5.916e+03 0.000e+00 5.900e+01 0.000e+00\n",
      "  7.000e+00 6.000e+01 2.000e+01]\n",
      " [1.000e+00 8.000e+00 8.000e+00 0.000e+00 5.703e+03 1.000e+00 3.700e+01\n",
      "  6.000e+00 1.200e+01 6.600e+01]\n",
      " [1.000e+01 0.000e+00 6.000e+00 3.100e+01 5.000e+00 5.287e+03 1.300e+01\n",
      "  0.000e+00 5.300e+01 1.600e+01]\n",
      " [9.000e+00 2.000e+00 7.000e+00 0.000e+00 7.000e+00 2.700e+01 5.842e+03\n",
      "  0.000e+00 2.400e+01 0.000e+00]\n",
      " [4.000e+00 5.600e+01 1.440e+02 2.500e+01 3.100e+01 1.000e+00 0.000e+00\n",
      "  5.888e+03 1.400e+01 1.020e+02]\n",
      " [3.000e+00 1.700e+01 1.900e+01 1.600e+01 7.000e+00 2.000e+01 7.000e+00\n",
      "  1.000e+00 5.751e+03 1.000e+01]\n",
      " [1.800e+01 2.000e+00 5.000e+00 1.500e+01 5.400e+01 1.900e+01 1.000e+00\n",
      "  1.600e+01 4.800e+01 5.771e+03]]\n"
     ]
    }
   ],
   "source": [
    "mnist = Mnist(\"private/mnist\", split=\"train\", batch_size=32, resize=28)\n",
    "dataset_infer = mnist.run()\n",
    "ds_test = dataset_infer.create_dict_iterator()\n",
    "\n",
    "conf_matrix = np.zeros((10,10))\n",
    "\n",
    "for data in ds_test:\n",
    "    images = data[\"image\"].asnumpy()\n",
    "    labels = data[\"label\"].asnumpy()\n",
    "    \n",
    "    output = model.predict(Tensor(data['image']))\n",
    "    predicted = np.argmax(output.asnumpy(), axis=1)\n",
    "    \n",
    "    # update confusion matrix\n",
    "    for t, p in zip(labels, predicted):\n",
    "        conf_matrix[t, p] += 1\n",
    "\n",
    "        \n",
    "print(conf_matrix)"
   ]
  },
  {
   "cell_type": "code",
   "execution_count": 25,
   "id": "4ff9f7d4",
   "metadata": {},
   "outputs": [
    {
     "data": {
      "text/plain": [
       "Text(95.72222222222221, 0.5, 'True')"
      ]
     },
     "execution_count": 25,
     "metadata": {},
     "output_type": "execute_result"
    },
    {
     "data": {
      "image/png": "[encoded data removed]",
      "text/plain": [
       "<Figure size 1000x900 with 2 Axes>"
      ]
     },
     "metadata": {},
     "output_type": "display_data"
    }
   ],
   "source": [
    "import seaborn as sns\n",
    "\n",
    "plt.subplots(figsize=(10,9))\n",
    "ax = sns.heatmap(conf_matrix, annot=True, vmax=20)\n",
    "ax.set_xlabel('Predicted')\n",
    "ax.set_ylabel('True')"
   ]
  }
 ],
 "metadata": {
  "kernelspec": {
   "display_name": "base",
   "language": "python",
   "name": "python3"
  },
  "language_info": {
   "codemirror_mode": {
    "name": "ipython",
    "version": 3
   },
   "file_extension": ".py",
   "mimetype": "text/x-python",
   "name": "python",
   "nbconvert_exporter": "python",
   "pygments_lexer": "ipython3",
   "version": "3.9.1"
  },
  "orig_nbformat": 4
 },
 "nbformat": 4,
 "nbformat_minor": 2
}
