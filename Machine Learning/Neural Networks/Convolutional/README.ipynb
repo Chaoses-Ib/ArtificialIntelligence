{
 "cells": [
  {
   "attachments": {},
   "cell_type": "markdown",
   "metadata": {},
   "source": [
    "# Convolutional Neural Networks"
   ]
  },
  {
   "attachments": {},
   "cell_type": "markdown",
   "metadata": {},
   "source": [
    "## LeNet-5"
   ]
  },
  {
   "cell_type": "code",
   "execution_count": 2,
   "metadata": {},
   "outputs": [
    {
     "name": "stderr",
     "output_type": "stream",
     "text": [
      "c:\\ProgramData\\Miniconda3\\lib\\site-packages\\tqdm\\auto.py:21: TqdmWarning: IProgress not found. Please update jupyter and ipywidgets. See https://ipywidgets.readthedocs.io/en/stable/user_install.html\n",
      "  from .autonotebook import tqdm as notebook_tqdm\n",
      "c:\\ProgramData\\Miniconda3\\lib\\site-packages\\scipy\\__init__.py:146: UserWarning: A NumPy version >=1.16.5 and <1.23.0 is required for this version of SciPy (detected version 1.23.1\n",
      "  warnings.warn(f\"A NumPy version >={np_minversion} and <{np_maxversion}\"\n"
     ]
    }
   ],
   "source": [
    "import time\n",
    "import torch\n",
    "import torch.nn as nn\n",
    "import torch.nn.functional as F\n",
    "from torch.utils.data import DataLoader\n",
    "from torchvision import datasets\n",
    "from torchvision import transforms\n",
    "import torchvision.transforms as transforms\n",
    "\n",
    "import numpy as np\n",
    "\n",
    "import matplotlib\n",
    "import matplotlib.pyplot as plt\n",
    "import seaborn as sns\n",
    "%matplotlib inline"
   ]
  },
  {
   "cell_type": "code",
   "execution_count": 3,
   "metadata": {},
   "outputs": [],
   "source": [
    "device = torch.device(\"cuda:0\" if torch.cuda.is_available() else \"cpu\")"
   ]
  },
  {
   "cell_type": "code",
   "execution_count": 5,
   "metadata": {},
   "outputs": [],
   "source": [
    "train_dataset = datasets.MNIST(root='private', \n",
    "                               train=True, \n",
    "                               transform=transforms.Compose([\n",
    "                                 transforms.ToTensor()  \n",
    "                               ]),\n",
    "                               download=True)\n",
    "\n",
    "test_dataset = datasets.MNIST(root='private', \n",
    "                              train=False, \n",
    "                              transform=transforms.Compose([\n",
    "                                 transforms.ToTensor()  \n",
    "                               ]))"
   ]
  },
  {
   "cell_type": "code",
   "execution_count": 6,
   "metadata": {},
   "outputs": [],
   "source": [
    "batch_size = 100\n",
    "n_iters = 3000\n",
    "num_epochs = n_iters / (len(train_dataset) / batch_size)\n",
    "num_epochs = int(num_epochs)\n",
    "\n",
    "train_loader = torch.utils.data.DataLoader(dataset=train_dataset, \n",
    "                                           batch_size=batch_size, \n",
    "                                           shuffle=True)\n",
    "\n",
    "test_loader = torch.utils.data.DataLoader(dataset=test_dataset, \n",
    "                                          batch_size=batch_size, \n",
    "                                          shuffle=False)"
   ]
  },
  {
   "cell_type": "code",
   "execution_count": 7,
   "metadata": {},
   "outputs": [
    {
     "data": {
      "text/plain": [
       "(torch.Size([100, 1, 28, 28]), torch.Size([100]))"
      ]
     },
     "execution_count": 7,
     "metadata": {},
     "output_type": "execute_result"
    }
   ],
   "source": [
    "next(train_loader.__iter__())[0].shape, next(train_loader.__iter__())[1].shape"
   ]
  },
  {
   "cell_type": "code",
   "execution_count": 8,
   "metadata": {},
   "outputs": [
    {
     "data": {
      "text/plain": [
       "LeNet(\n",
       "  (net): Sequential(\n",
       "    (0): Conv2d(1, 6, kernel_size=(5, 5), stride=(1, 1), padding=(2, 2))\n",
       "    (1): ReLU()\n",
       "    (2): AvgPool2d(kernel_size=2, stride=2, padding=0)\n",
       "    (3): Conv2d(6, 16, kernel_size=(5, 5), stride=(1, 1))\n",
       "    (4): ReLU()\n",
       "    (5): AvgPool2d(kernel_size=2, stride=2, padding=0)\n",
       "    (6): Flatten(start_dim=1, end_dim=-1)\n",
       "    (7): Linear(in_features=400, out_features=120, bias=True)\n",
       "    (8): ReLU()\n",
       "    (9): Linear(in_features=120, out_features=84, bias=True)\n",
       "    (10): ReLU()\n",
       "    (11): Linear(in_features=84, out_features=10, bias=True)\n",
       "  )\n",
       ")"
      ]
     },
     "execution_count": 8,
     "metadata": {},
     "output_type": "execute_result"
    }
   ],
   "source": [
    "class LeNet(nn.Module):\n",
    "    def __init__(self):\n",
    "        super(LeNet, self).__init__()\n",
    "        self.net = nn.Sequential(\n",
    "            nn.Conv2d(1, 6, kernel_size=5, padding=2),\n",
    "            # sigmoid?\n",
    "            nn.ReLU(),\n",
    "            nn.AvgPool2d(kernel_size=2, stride=2),\n",
    "            nn.Conv2d(6, 16, kernel_size=5),\n",
    "            nn.ReLU(),\n",
    "            nn.AvgPool2d(kernel_size=2, stride=2),\n",
    "            nn.Flatten(),\n",
    "            nn.Linear(16*5*5, 120),\n",
    "            nn.ReLU(),\n",
    "            nn.Linear(120, 84),\n",
    "            nn.ReLU(),\n",
    "            nn.Linear(84, 10),\n",
    "        )\n",
    "\n",
    "    def forward(self, x):\n",
    "        out = self.net(x)\n",
    "        return out\n",
    "\n",
    "model = LeNet()\n",
    "model.to(device)"
   ]
  },
  {
   "cell_type": "code",
   "execution_count": 12,
   "metadata": {},
   "outputs": [
    {
     "data": {
      "text/plain": [
       "MyCNN(\n",
       "  (net): Sequential(\n",
       "    (0): Conv2d(1, 12, kernel_size=(5, 5), stride=(1, 1), padding=(2, 2))\n",
       "    (1): ReLU()\n",
       "    (2): MaxPool2d(kernel_size=2, stride=2, padding=0, dilation=1, ceil_mode=False)\n",
       "    (3): Conv2d(12, 32, kernel_size=(5, 5), stride=(1, 1))\n",
       "    (4): ReLU()\n",
       "    (5): MaxPool2d(kernel_size=2, stride=2, padding=0, dilation=1, ceil_mode=False)\n",
       "    (6): Flatten(start_dim=1, end_dim=-1)\n",
       "    (7): Linear(in_features=800, out_features=120, bias=True)\n",
       "    (8): ReLU()\n",
       "    (9): BatchNorm1d(120, eps=1e-05, momentum=0.1, affine=True, track_running_stats=True)\n",
       "    (10): Linear(in_features=120, out_features=84, bias=True)\n",
       "    (11): ReLU()\n",
       "    (12): BatchNorm1d(84, eps=1e-05, momentum=0.1, affine=True, track_running_stats=True)\n",
       "    (13): Linear(in_features=84, out_features=84, bias=True)\n",
       "    (14): ReLU()\n",
       "    (15): BatchNorm1d(84, eps=1e-05, momentum=0.1, affine=True, track_running_stats=True)\n",
       "    (16): Linear(in_features=84, out_features=10, bias=True)\n",
       "    (17): Softmax(dim=1)\n",
       "  )\n",
       ")"
      ]
     },
     "execution_count": 12,
     "metadata": {},
     "output_type": "execute_result"
    }
   ],
   "source": [
    "class MyCNN(nn.Module):\n",
    "    def __init__(self):\n",
    "        super(MyCNN, self).__init__()\n",
    "        self.net = nn.Sequential(\n",
    "            # 1. 从 6 个卷积核增加到 12 个\n",
    "            nn.Conv2d(1, 12, kernel_size=5, padding=2),\n",
    "            nn.ReLU(),\n",
    "            # 2. 改为使用 MaxPool2d\n",
    "            nn.MaxPool2d(kernel_size=2, stride=2),\n",
    "            # 3. 从 16 个卷积核增加到 32 个\n",
    "            nn.Conv2d(12, 32, kernel_size=5),\n",
    "            nn.ReLU(),\n",
    "            # 4. 改为使用 MaxPool2d\n",
    "            nn.MaxPool2d(kernel_size=2, stride=2),\n",
    "            nn.Flatten(),\n",
    "            nn.Linear(32*5*5, 120),\n",
    "            nn.ReLU(),\n",
    "            # 5. 增加 BatchNorm1d\n",
    "            nn.BatchNorm1d(120),\n",
    "            nn.Linear(120, 84),\n",
    "            nn.ReLU(),\n",
    "            # 6. 增加 BatchNorm1d\n",
    "            nn.BatchNorm1d(84),\n",
    "            # 7. 增加一个全连接层\n",
    "            nn.Linear(84, 84),\n",
    "            nn.ReLU(),\n",
    "            # 8. 增加 BatchNorm1d\n",
    "            nn.BatchNorm1d(84),\n",
    "            nn.Linear(84, 10),\n",
    "            # 9. 增加 Softmax\n",
    "            nn.Softmax(dim=1),\n",
    "        )\n",
    "\n",
    "    def forward(self, x):\n",
    "        out = self.net(x)\n",
    "        return out\n",
    "\n",
    "model = MyCNN()\n",
    "model.to(device)"
   ]
  },
  {
   "cell_type": "code",
   "execution_count": 13,
   "metadata": {},
   "outputs": [
    {
     "name": "stdout",
     "output_type": "stream",
     "text": [
      "Iteration: 500. Loss: 1.477274775505066. Accuracy: 97.97000122070312\n",
      "Iteration: 1000. Loss: 1.4755924940109253. Accuracy: 98.5999984741211\n",
      "Iteration: 1500. Loss: 1.474888563156128. Accuracy: 98.62000274658203\n",
      "Iteration: 2000. Loss: 1.4799821376800537. Accuracy: 98.75\n",
      "Iteration: 2500. Loss: 1.4656410217285156. Accuracy: 98.88999938964844\n",
      "Iteration: 3000. Loss: 1.4658583402633667. Accuracy: 98.70999908447266\n"
     ]
    }
   ],
   "source": [
    "criterion = nn.CrossEntropyLoss()\n",
    "\n",
    "learning_rate = 0.1\n",
    "\n",
    "optimizer = torch.optim.SGD(model.parameters(), lr=learning_rate)\n",
    "\n",
    "iter = 0\n",
    "for epoch in range(num_epochs):\n",
    "    for i, (images, labels) in enumerate(train_loader):\n",
    "        images = images.requires_grad_().to(device)\n",
    "        labels = labels.to(device)\n",
    "\n",
    "        optimizer.zero_grad()\n",
    "        outputs = model(images)\n",
    "        loss = criterion(outputs, labels)\n",
    "        loss.backward()\n",
    "\n",
    "        optimizer.step()\n",
    "\n",
    "        iter += 1\n",
    "\n",
    "        if iter % 500 == 0:\n",
    "            correct = 0\n",
    "            total = 0\n",
    "            for images, labels in test_loader:\n",
    "                images = images.requires_grad_().to(device)\n",
    "                outputs = model(images)\n",
    "                _, predicted = torch.max(outputs.data, 1)\n",
    "                total += labels.size(0)\n",
    "                if torch.cuda.is_available():\n",
    "                    correct += (predicted.cpu() == labels.cpu()).sum()\n",
    "                else:\n",
    "                    correct += (predicted == labels).sum()\n",
    "\n",
    "            accuracy = 100 * correct / total\n",
    "\n",
    "            print('Iteration: {}. Loss: {}. Accuracy: {}'.format(iter, loss.item(), accuracy))"
   ]
  },
  {
   "cell_type": "code",
   "execution_count": 14,
   "metadata": {},
   "outputs": [
    {
     "name": "stdout",
     "output_type": "stream",
     "text": [
      "[[9.730e+02 0.000e+00 0.000e+00 0.000e+00 0.000e+00 0.000e+00 3.000e+00\n",
      "  0.000e+00 1.000e+00 3.000e+00]\n",
      " [0.000e+00 1.129e+03 4.000e+00 1.000e+00 0.000e+00 0.000e+00 1.000e+00\n",
      "  0.000e+00 0.000e+00 0.000e+00]\n",
      " [1.000e+00 1.000e+00 1.023e+03 1.000e+00 0.000e+00 0.000e+00 0.000e+00\n",
      "  5.000e+00 1.000e+00 0.000e+00]\n",
      " [0.000e+00 0.000e+00 1.000e+00 1.002e+03 0.000e+00 2.000e+00 0.000e+00\n",
      "  0.000e+00 4.000e+00 1.000e+00]\n",
      " [1.000e+00 0.000e+00 0.000e+00 0.000e+00 9.580e+02 0.000e+00 3.000e+00\n",
      "  0.000e+00 2.000e+00 1.800e+01]\n",
      " [1.000e+00 0.000e+00 1.000e+00 7.000e+00 0.000e+00 8.800e+02 2.000e+00\n",
      "  0.000e+00 0.000e+00 1.000e+00]\n",
      " [4.000e+00 2.000e+00 0.000e+00 1.000e+00 0.000e+00 1.000e+00 9.500e+02\n",
      "  0.000e+00 0.000e+00 0.000e+00]\n",
      " [0.000e+00 6.000e+00 8.000e+00 1.000e+00 0.000e+00 0.000e+00 0.000e+00\n",
      "  1.000e+03 2.000e+00 1.100e+01]\n",
      " [3.000e+00 0.000e+00 3.000e+00 2.000e+00 0.000e+00 1.000e+00 0.000e+00\n",
      "  1.000e+00 9.600e+02 4.000e+00]\n",
      " [0.000e+00 2.000e+00 1.000e+00 2.000e+00 3.000e+00 3.000e+00 0.000e+00\n",
      "  2.000e+00 0.000e+00 9.960e+02]]\n"
     ]
    }
   ],
   "source": [
    "def compute_conf_matrix(model, data_loader):\n",
    "    conf_matrix = np.zeros((10,10))\n",
    "    for images, labels in data_loader:\n",
    "        images = images.requires_grad_().to(device)\n",
    "        outputs = model(images)\n",
    "        _, predicted = torch.max(outputs.data, 1)\n",
    "        for t, p in zip(labels.view(-1), predicted.view(-1)):\n",
    "            conf_matrix[t.long(), p.long()] += 1\n",
    "\n",
    "    return conf_matrix\n",
    "\n",
    "conf_matrix = compute_conf_matrix(model, test_loader)\n",
    "print(conf_matrix)"
   ]
  },
  {
   "cell_type": "code",
   "execution_count": 15,
   "metadata": {},
   "outputs": [
    {
     "data": {
      "text/plain": [
       "Text(69.0, 0.5, 'True')"
      ]
     },
     "execution_count": 15,
     "metadata": {},
     "output_type": "execute_result"
    },
    {
     "data": {
      "image/png": "[encoded data removed]",
      "text/plain": [
       "<Figure size 720x648 with 2 Axes>"
      ]
     },
     "metadata": {
      "needs_background": "light"
     },
     "output_type": "display_data"
    }
   ],
   "source": [
    "plt.subplots(figsize=(10,9))\n",
    "ax = sns.heatmap(conf_matrix, annot=True, vmax=20)\n",
    "ax.set_xlabel('Predicted')\n",
    "ax.set_ylabel('True')"
   ]
  }
 ],
 "metadata": {
  "kernelspec": {
   "display_name": "base",
   "language": "python",
   "name": "python3"
  },
  "language_info": {
   "codemirror_mode": {
    "name": "ipython",
    "version": 3
   },
   "file_extension": ".py",
   "mimetype": "text/x-python",
   "name": "python",
   "nbconvert_exporter": "python",
   "pygments_lexer": "ipython3",
   "version": "3.9.1"
  },
  "orig_nbformat": 4
 },
 "nbformat": 4,
 "nbformat_minor": 2
}
