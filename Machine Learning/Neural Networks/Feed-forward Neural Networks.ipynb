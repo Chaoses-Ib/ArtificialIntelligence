{
 "cells": [
  {
   "cell_type": "code",
   "execution_count": 207,
   "metadata": {},
   "outputs": [],
   "source": [
    "import numpy as np"
   ]
  },
  {
   "attachments": {},
   "cell_type": "markdown",
   "metadata": {},
   "source": [
    "## NumPy"
   ]
  },
  {
   "cell_type": "code",
   "execution_count": 208,
   "metadata": {},
   "outputs": [],
   "source": [
    "def init():\n",
    "    global x, w, z, y, delta\n",
    "    x = 1 * np.ones(2)\n",
    "    w = [\n",
    "        0.5 * np.ones((3, 2)),\n",
    "        0.5 * np.ones((2, 3)),\n",
    "        0.5 * np.ones((1, 2))\n",
    "    ]\n",
    "    z = [\n",
    "        np.ones(3),\n",
    "        np.ones(2),\n",
    "        np.ones(1)\n",
    "    ]\n",
    "    y = 1 * np.ones(1)\n",
    "\n",
    "    delta = [\n",
    "        np.ones(3),\n",
    "        np.ones(2),\n",
    "        np.ones(1)\n",
    "    ]\n",
    "\n",
    "init()"
   ]
  },
  {
   "cell_type": "code",
   "execution_count": 209,
   "metadata": {},
   "outputs": [],
   "source": [
    "f = lambda x: x"
   ]
  },
  {
   "cell_type": "code",
   "execution_count": 210,
   "metadata": {},
   "outputs": [
    {
     "data": {
      "text/plain": [
       "[array([1., 1., 1.]), array([1.5, 1.5]), array([1.5])]"
      ]
     },
     "execution_count": 210,
     "metadata": {},
     "output_type": "execute_result"
    }
   ],
   "source": [
    "def forward(x, w, z):\n",
    "    z[0] = np.dot(w[0], x)\n",
    "    for i in range(1, len(w)):\n",
    "        z[i] = np.dot(w[i], z[i-1])\n",
    "    return z\n",
    "\n",
    "forward(x, w, z)"
   ]
  },
  {
   "cell_type": "code",
   "execution_count": 211,
   "metadata": {},
   "outputs": [
    {
     "data": {
      "text/plain": [
       "[array([0.25, 0.25, 0.25]), array([0.25, 0.25]), array([0.5])]"
      ]
     },
     "execution_count": 211,
     "metadata": {},
     "output_type": "execute_result"
    }
   ],
   "source": [
    "def backward(y, w, z):\n",
    "    delta[-1] = z[-1] - y  # l1/l2?\n",
    "    for i in range(len(w)-1, 0, -1):\n",
    "        delta[i-1] = np.dot(w[i].T, delta[i])\n",
    "    return delta\n",
    "\n",
    "backward(y, w, z)"
   ]
  },
  {
   "cell_type": "code",
   "execution_count": 212,
   "metadata": {},
   "outputs": [
    {
     "data": {
      "text/plain": [
       "[array([[0.25, 0.25],\n",
       "        [0.25, 0.25],\n",
       "        [0.25, 0.25]]),\n",
       " array([[0.25, 0.25, 0.25],\n",
       "        [0.25, 0.25, 0.25]]),\n",
       " array([[-0.25, -0.25]])]"
      ]
     },
     "execution_count": 212,
     "metadata": {},
     "output_type": "execute_result"
    }
   ],
   "source": [
    "def update(x, w, z, delta, eta=1):\n",
    "    w[0] -= eta * np.outer(delta[0], x)  # +=?\n",
    "    for i in range(1, len(w)):\n",
    "        w[i] -= eta * np.outer(delta[i], z[i-1])\n",
    "    return w\n",
    "\n",
    "update(x, w, z, delta)"
   ]
  },
  {
   "cell_type": "code",
   "execution_count": 213,
   "metadata": {},
   "outputs": [
    {
     "data": {
      "text/plain": [
       "([array([0.92790055, 0.92790055, 0.92790055]),\n",
       "  array([1.29149914, 1.29149914]),\n",
       "  array([1.])],\n",
       " [array([0., 0., 0.]), array([0., 0.]), array([0.])],\n",
       " [array([[0.46395027, 0.46395027],\n",
       "         [0.46395027, 0.46395027],\n",
       "         [0.46395027, 0.46395027]]),\n",
       "  array([[0.46395027, 0.46395027, 0.46395027],\n",
       "         [0.46395027, 0.46395027, 0.46395027]]),\n",
       "  array([[0.38714699, 0.38714699]])])"
      ]
     },
     "execution_count": 213,
     "metadata": {},
     "output_type": "execute_result"
    }
   ],
   "source": [
    "init()\n",
    "\n",
    "for i in range(100):\n",
    "    z = forward(x, w, z)\n",
    "    delta = backward(y, w, z)\n",
    "    w = update(x, w, z, delta, eta=0.1)\n",
    "    #print('z:', z, 'delta:', delta, 'w:', w, sep='\\n')\n",
    "    #print()\n",
    "\n",
    "z, delta, w"
   ]
  },
  {
   "cell_type": "code",
   "execution_count": 214,
   "metadata": {},
   "outputs": [
    {
     "data": {
      "text/plain": [
       "[array([0.92790055, 0.92790055, 0.92790055]),\n",
       " array([1.29149914, 1.29149914]),\n",
       " array([1.])]"
      ]
     },
     "execution_count": 214,
     "metadata": {},
     "output_type": "execute_result"
    }
   ],
   "source": [
    "forward(np.array([1, 1]), w, z)"
   ]
  },
  {
   "cell_type": "code",
   "execution_count": 215,
   "metadata": {},
   "outputs": [
    {
     "data": {
      "text/plain": [
       "[array([1.85580109, 1.85580109, 1.85580109]),\n",
       " array([2.58299827, 2.58299827]),\n",
       " array([2.])]"
      ]
     },
     "execution_count": 215,
     "metadata": {},
     "output_type": "execute_result"
    }
   ],
   "source": [
    "forward(np.array([2, 2]), w, z)"
   ]
  },
  {
   "attachments": {},
   "cell_type": "markdown",
   "metadata": {},
   "source": [
    "- 权重之和不必为一\n",
    "- 学习率太高时会跑飞\n",
    "- 偏置不是必须的"
   ]
  },
  {
   "attachments": {},
   "cell_type": "markdown",
   "metadata": {},
   "source": [
    "### Bias"
   ]
  },
  {
   "cell_type": "code",
   "execution_count": 216,
   "metadata": {},
   "outputs": [],
   "source": [
    "def init():\n",
    "    global x, w, b, z, y, delta\n",
    "    x = 1 * np.ones(2)\n",
    "    w = [\n",
    "        0.5 * np.ones((3, 2)),\n",
    "        0.5 * np.ones((2, 3)),\n",
    "        0.5 * np.ones((1, 2))\n",
    "    ]\n",
    "    b = [\n",
    "        0.5 * np.ones(3),\n",
    "        0.5 * np.ones(2),\n",
    "        0.5 * np.ones(1)\n",
    "    ]\n",
    "    z = [\n",
    "        np.ones(3),\n",
    "        np.ones(2),\n",
    "        np.ones(1)\n",
    "    ]\n",
    "    y = 1 * np.ones(1)\n",
    "\n",
    "    delta = [\n",
    "        np.ones(3),\n",
    "        np.ones(2),\n",
    "        np.ones(1)\n",
    "    ]\n",
    "\n",
    "init()"
   ]
  },
  {
   "cell_type": "code",
   "execution_count": 218,
   "metadata": {},
   "outputs": [
    {
     "data": {
      "text/plain": [
       "[array([1.5, 1.5, 1.5]), array([2.75, 2.75]), array([3.25])]"
      ]
     },
     "execution_count": 218,
     "metadata": {},
     "output_type": "execute_result"
    }
   ],
   "source": [
    "def forward(x, w, z):\n",
    "    z[0] = np.dot(w[0], x) + b[0]\n",
    "    for i in range(1, len(w)):\n",
    "        z[i] = np.dot(w[i], z[i-1]) + b[i]\n",
    "    return z\n",
    "\n",
    "forward(x, w, z)"
   ]
  },
  {
   "cell_type": "code",
   "execution_count": 219,
   "metadata": {},
   "outputs": [
    {
     "data": {
      "text/plain": [
       "[array([1.125, 1.125, 1.125]), array([1.125, 1.125]), array([2.25])]"
      ]
     },
     "execution_count": 219,
     "metadata": {},
     "output_type": "execute_result"
    }
   ],
   "source": [
    "def backward(y, w, z):\n",
    "    delta[-1] = z[-1] - y\n",
    "    for i in range(len(w)-1, 0, -1):\n",
    "        delta[i-1] = np.dot(w[i].T, delta[i])\n",
    "    return delta\n",
    "\n",
    "backward(y, w, z)"
   ]
  },
  {
   "cell_type": "code",
   "execution_count": 220,
   "metadata": {},
   "outputs": [
    {
     "data": {
      "text/plain": [
       "([array([[-0.625, -0.625],\n",
       "         [-0.625, -0.625],\n",
       "         [-0.625, -0.625]]),\n",
       "  array([[-1.1875, -1.1875, -1.1875],\n",
       "         [-1.1875, -1.1875, -1.1875]]),\n",
       "  array([[-5.6875, -5.6875]])],\n",
       " [array([-0.625, -0.625, -0.625]), array([-0.625, -0.625]), array([-1.75])])"
      ]
     },
     "execution_count": 220,
     "metadata": {},
     "output_type": "execute_result"
    }
   ],
   "source": [
    "def update(x, w, b, z, delta, eta=1):\n",
    "    w[0] -= eta * np.outer(delta[0], x)\n",
    "    b[0] -= eta * delta[0]\n",
    "    for i in range(1, len(w)):\n",
    "        w[i] -= eta * np.outer(delta[i], z[i-1])\n",
    "        b[i] -= eta * delta[i]\n",
    "    return w, b\n",
    "\n",
    "update(x, w, b, z, delta)"
   ]
  },
  {
   "cell_type": "code",
   "execution_count": 221,
   "metadata": {},
   "outputs": [
    {
     "name": "stdout",
     "output_type": "stream",
     "text": [
      "0\n",
      "z:\n",
      "[array([1., 1., 1.]), array([1., 1.]), array([1.])]\n",
      "delta:\n",
      "[array([1., 1., 1.]), array([1., 1.]), array([1.])]\n",
      "w:\n",
      "[array([[0.5, 0.5],\n",
      "       [0.5, 0.5],\n",
      "       [0.5, 0.5]]), array([[0.5, 0.5, 0.5],\n",
      "       [0.5, 0.5, 0.5]]), array([[0.5, 0.5]])]\n",
      "b\n",
      "[array([0.5, 0.5, 0.5]), array([0.5, 0.5]), array([0.5])]\n",
      "\n",
      "z:\n",
      "[array([1.5, 1.5, 1.5]), array([2.75, 2.75]), array([3.25])]\n",
      "delta:\n",
      "[array([1.125, 1.125, 1.125]), array([1.125, 1.125]), array([2.25])]\n",
      "w:\n",
      "[array([[0.3875, 0.3875],\n",
      "       [0.3875, 0.3875],\n",
      "       [0.3875, 0.3875]]), array([[0.33125, 0.33125, 0.33125],\n",
      "       [0.33125, 0.33125, 0.33125]]), array([[-0.11875, -0.11875]])]\n",
      "b\n",
      "[array([0.3875, 0.3875, 0.3875]), array([0.3875, 0.3875]), array([0.275])]\n"
     ]
    }
   ],
   "source": [
    "init()\n",
    "\n",
    "for i in range(1):\n",
    "    print(i)\n",
    "    print('z:', z, 'delta:', delta, 'w:', w, 'b', b, sep='\\n')\n",
    "    print()\n",
    "    z = forward(x, w, z)\n",
    "    delta = backward(y, w, z)\n",
    "    w, b = update(x, w, b, z, delta, eta=0.1)\n",
    "\n",
    "print('z:', z, 'delta:', delta, 'w:', w, 'b', b, sep='\\n')"
   ]
  }
 ],
 "metadata": {
  "kernelspec": {
   "display_name": "base",
   "language": "python",
   "name": "python3"
  },
  "language_info": {
   "codemirror_mode": {
    "name": "ipython",
    "version": 3
   },
   "file_extension": ".py",
   "mimetype": "text/x-python",
   "name": "python",
   "nbconvert_exporter": "python",
   "pygments_lexer": "ipython3",
   "version": "3.9.1"
  },
  "orig_nbformat": 4
 },
 "nbformat": 4,
 "nbformat_minor": 2
}
